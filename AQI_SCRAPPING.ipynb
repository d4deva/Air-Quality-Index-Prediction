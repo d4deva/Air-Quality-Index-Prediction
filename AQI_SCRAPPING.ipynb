{
 "cells": [
  {
   "cell_type": "code",
   "execution_count": 1,
   "metadata": {},
   "outputs": [],
   "source": [
    "from bs4 import BeautifulSoup as soup\n",
    "from urllib.request import urlopen as ureq\n",
    "import pandas as pd\n",
    "import numpy as np"
   ]
  },
  {
   "cell_type": "markdown",
   "metadata": {},
   "source": [
    "# For Mumbai"
   ]
  },
  {
   "cell_type": "code",
   "execution_count": 2,
   "metadata": {
    "scrolled": true
   },
   "outputs": [],
   "source": [
    "url=[]\n",
    "for year in range(2015,2021):\n",
    "    for month in range(1,13):\n",
    "        if month <=9:\n",
    "            links= \"https://en.tutiempo.net/climate/0{}-{}/ws-430030.html\".format(month,year)\n",
    "            url.append(links)\n",
    "        else:\n",
    "            links= \"https://en.tutiempo.net/climate/{}-{}/ws-430030.html\".format(month,year)\n",
    "            url.append(links)"
   ]
  },
  {
   "cell_type": "code",
   "execution_count": 3,
   "metadata": {},
   "outputs": [],
   "source": [
    "data=[]\n",
    "for i in url[:-4]:\n",
    "    uclient= ureq(i)\n",
    "    page_html= uclient.read()\n",
    "    uclient.close()\n",
    "    page_soup= soup(page_html, \"lxml\")\n",
    "    \n",
    "    \n",
    "    table_body=page_soup.find(\"div\",{\"class\":\"mt5 minoverflow tablancpy\"})\n",
    "    rows = table_body.findAll('tr')\n",
    "    for row in rows[1:-2]:\n",
    "        cols=row.findAll('td')\n",
    "        cols=[x.text.strip() for x in cols[0:10]]\n",
    "        data.append(cols)\n",
    "\n",
    "df= pd.DataFrame(data)"
   ]
  },
  {
   "cell_type": "code",
   "execution_count": 4,
   "metadata": {},
   "outputs": [],
   "source": [
    "df= df.drop(4, axis=1)\n",
    "df= df.replace('', np.nan)\n",
    "df.columns= ['Date', 'T', 'TM', 'tm', 'H', 'PP', 'VV', 'V', 'VM']"
   ]
  },
  {
   "cell_type": "code",
   "execution_count": 6,
   "metadata": {},
   "outputs": [],
   "source": [
    "df.to_csv('Mumbai_input.csv', header= True)"
   ]
  },
  {
   "cell_type": "code",
   "execution_count": 7,
   "metadata": {},
   "outputs": [
    {
     "data": {
      "text/plain": [
       "(1067, 8)"
      ]
     },
     "execution_count": 7,
     "metadata": {},
     "output_type": "execute_result"
    }
   ],
   "source": [
    "df_input= pd.read_csv(\"Mumbai_input.csv\", index_col= 'Date')\n",
    "df_input= df_input.drop(\"Unnamed: 0\", axis=1)\n",
    "df_input= df_input.dropna()\n",
    "df_input.shape"
   ]
  },
  {
   "cell_type": "code",
   "execution_count": 8,
   "metadata": {},
   "outputs": [
    {
     "data": {
      "text/html": [
       "<div>\n",
       "<style scoped>\n",
       "    .dataframe tbody tr th:only-of-type {\n",
       "        vertical-align: middle;\n",
       "    }\n",
       "\n",
       "    .dataframe tbody tr th {\n",
       "        vertical-align: top;\n",
       "    }\n",
       "\n",
       "    .dataframe thead th {\n",
       "        text-align: right;\n",
       "    }\n",
       "</style>\n",
       "<table border=\"1\" class=\"dataframe\">\n",
       "  <thead>\n",
       "    <tr style=\"text-align: right;\">\n",
       "      <th></th>\n",
       "      <th>pm25</th>\n",
       "    </tr>\n",
       "    <tr>\n",
       "      <th>date</th>\n",
       "      <th></th>\n",
       "    </tr>\n",
       "  </thead>\n",
       "  <tbody>\n",
       "    <tr>\n",
       "      <td>01-01-2015</td>\n",
       "      <td>163</td>\n",
       "    </tr>\n",
       "    <tr>\n",
       "      <td>02-01-2015</td>\n",
       "      <td>165</td>\n",
       "    </tr>\n",
       "    <tr>\n",
       "      <td>03-01-2015</td>\n",
       "      <td>170</td>\n",
       "    </tr>\n",
       "    <tr>\n",
       "      <td>04-01-2015</td>\n",
       "      <td>159</td>\n",
       "    </tr>\n",
       "    <tr>\n",
       "      <td>05-01-2015</td>\n",
       "      <td>145</td>\n",
       "    </tr>\n",
       "  </tbody>\n",
       "</table>\n",
       "</div>"
      ],
      "text/plain": [
       "             pm25\n",
       "date             \n",
       "01-01-2015    163\n",
       "02-01-2015    165\n",
       "03-01-2015    170\n",
       "04-01-2015    159\n",
       "05-01-2015    145"
      ]
     },
     "execution_count": 8,
     "metadata": {},
     "output_type": "execute_result"
    }
   ],
   "source": [
    "df_target= pd.read_csv(\"Mumbai_target.csv\", index_col= 'date')\n",
    "df_target.head()"
   ]
  },
  {
   "cell_type": "code",
   "execution_count": 10,
   "metadata": {},
   "outputs": [],
   "source": [
    "merge_bombay=pd.merge(df_input,df_target, how='inner', left_index=True, right_index=True)"
   ]
  },
  {
   "cell_type": "markdown",
   "metadata": {},
   "source": [
    "# For Bangalore "
   ]
  },
  {
   "cell_type": "code",
   "execution_count": 13,
   "metadata": {},
   "outputs": [],
   "source": [
    "url=[]\n",
    "for year in range(2015,2021):\n",
    "    for month in range(1,13):\n",
    "        if month <=9:\n",
    "            links= \"https://en.tutiempo.net/climate/0{}-{}/ws-432950.html\".format(month,year)\n",
    "            url.append(links)\n",
    "        else:\n",
    "            links= \"https://en.tutiempo.net/climate/{}-{}/ws-432950.html\".format(month,year)\n",
    "            url.append(links)"
   ]
  },
  {
   "cell_type": "code",
   "execution_count": 14,
   "metadata": {},
   "outputs": [],
   "source": [
    "data=[]\n",
    "for i in url[5:-4]:\n",
    "    uclient= ureq(i)\n",
    "    page_html= uclient.read()\n",
    "    uclient.close()\n",
    "    page_soup= soup(page_html, \"lxml\")\n",
    "    \n",
    "    \n",
    "    table_body=page_soup.find(\"div\",{\"class\":\"mt5 minoverflow tablancpy\"})\n",
    "    rows = table_body.findAll('tr')\n",
    "    for row in rows[1:-2]:\n",
    "        cols=row.findAll('td')\n",
    "        cols=[x.text.strip() for x in cols[0:10]]\n",
    "        data.append(cols)\n",
    "\n",
    "df_bangalore= pd.DataFrame(data)"
   ]
  },
  {
   "cell_type": "code",
   "execution_count": 15,
   "metadata": {},
   "outputs": [],
   "source": [
    "df_bangalore= df_bangalore.drop(4, axis=1)\n",
    "df_bangalore= df_bangalore.replace('', np.nan)\n",
    "df_bangalore.columns= ['Date', 'T', 'TM', 'tm', 'H', 'PP', 'VV', 'V', 'VM']"
   ]
  },
  {
   "cell_type": "code",
   "execution_count": 16,
   "metadata": {},
   "outputs": [],
   "source": [
    "df_bangalore.to_csv('Bangalore_input.csv', header= True)"
   ]
  },
  {
   "cell_type": "code",
   "execution_count": 17,
   "metadata": {},
   "outputs": [
    {
     "data": {
      "text/plain": [
       "(991, 8)"
      ]
     },
     "execution_count": 17,
     "metadata": {},
     "output_type": "execute_result"
    }
   ],
   "source": [
    "bang_input= pd.read_csv(\"bangalore_input.csv\", index_col= 'Date')\n",
    "bang_input= bang_input.drop(\"Unnamed: 0\", axis=1)\n",
    "bang_input= bang_input.dropna()\n",
    "bang_input.shape"
   ]
  },
  {
   "cell_type": "code",
   "execution_count": 18,
   "metadata": {},
   "outputs": [
    {
     "data": {
      "text/html": [
       "<div>\n",
       "<style scoped>\n",
       "    .dataframe tbody tr th:only-of-type {\n",
       "        vertical-align: middle;\n",
       "    }\n",
       "\n",
       "    .dataframe tbody tr th {\n",
       "        vertical-align: top;\n",
       "    }\n",
       "\n",
       "    .dataframe thead th {\n",
       "        text-align: right;\n",
       "    }\n",
       "</style>\n",
       "<table border=\"1\" class=\"dataframe\">\n",
       "  <thead>\n",
       "    <tr style=\"text-align: right;\">\n",
       "      <th></th>\n",
       "      <th>pm25</th>\n",
       "    </tr>\n",
       "    <tr>\n",
       "      <th>date</th>\n",
       "      <th></th>\n",
       "    </tr>\n",
       "  </thead>\n",
       "  <tbody>\n",
       "    <tr>\n",
       "      <td>13-05-2015</td>\n",
       "      <td>79</td>\n",
       "    </tr>\n",
       "    <tr>\n",
       "      <td>14-05-2015</td>\n",
       "      <td>78</td>\n",
       "    </tr>\n",
       "    <tr>\n",
       "      <td>15-05-2015</td>\n",
       "      <td>92</td>\n",
       "    </tr>\n",
       "    <tr>\n",
       "      <td>16-05-2015</td>\n",
       "      <td>128</td>\n",
       "    </tr>\n",
       "    <tr>\n",
       "      <td>17-05-2015</td>\n",
       "      <td>12</td>\n",
       "    </tr>\n",
       "  </tbody>\n",
       "</table>\n",
       "</div>"
      ],
      "text/plain": [
       "            pm25\n",
       "date            \n",
       "13-05-2015    79\n",
       "14-05-2015    78\n",
       "15-05-2015    92\n",
       "16-05-2015   128\n",
       "17-05-2015    12"
      ]
     },
     "execution_count": 18,
     "metadata": {},
     "output_type": "execute_result"
    }
   ],
   "source": [
    "bang_target= pd.read_csv(\"Bangalore_target.csv\", index_col= 'date')\n",
    "bang_target.head()"
   ]
  },
  {
   "cell_type": "code",
   "execution_count": 19,
   "metadata": {},
   "outputs": [],
   "source": [
    "merge_bang=pd.merge(bang_input,bang_target, how='inner', left_index=True, right_index=True)"
   ]
  },
  {
   "cell_type": "markdown",
   "metadata": {},
   "source": [
    "# For Delhi"
   ]
  },
  {
   "cell_type": "code",
   "execution_count": 21,
   "metadata": {},
   "outputs": [],
   "source": [
    "url=[]\n",
    "for year in range(2015,2021):\n",
    "    for month in range(1,13):\n",
    "        if month <=9:\n",
    "            links= \"https://en.tutiempo.net/climate/0{}-{}/ws-421810.html\".format(month,year)\n",
    "            url.append(links)\n",
    "        else:\n",
    "            links= \"https://en.tutiempo.net/climate/{}-{}/ws-421810.html\".format(month,year)\n",
    "            url.append(links)"
   ]
  },
  {
   "cell_type": "code",
   "execution_count": 22,
   "metadata": {},
   "outputs": [],
   "source": [
    "data=[]\n",
    "for i in url[:-4]:\n",
    "    uclient= ureq(i)\n",
    "    page_html= uclient.read()\n",
    "    uclient.close()\n",
    "    page_soup= soup(page_html, \"lxml\")\n",
    "    \n",
    "    \n",
    "    table_body=page_soup.find(\"div\",{\"class\":\"mt5 minoverflow tablancpy\"})\n",
    "    rows = table_body.findAll('tr')\n",
    "    for row in rows[1:-2]:\n",
    "        cols=row.findAll('td')\n",
    "        cols=[x.text.strip() for x in cols[0:10]]\n",
    "        data.append(cols)\n",
    "\n",
    "df_delhi= pd.DataFrame(data)"
   ]
  },
  {
   "cell_type": "code",
   "execution_count": 23,
   "metadata": {},
   "outputs": [],
   "source": [
    "df_delhi= df_delhi.drop(4, axis=1)\n",
    "df_delhi= df_delhi.replace('', np.nan)\n",
    "df_delhi.columns= ['Date', 'T', 'TM', 'tm', 'H', 'PP', 'VV', 'V', 'VM']"
   ]
  },
  {
   "cell_type": "code",
   "execution_count": 24,
   "metadata": {},
   "outputs": [],
   "source": [
    "df_delhi.to_csv('Delhi_input.csv', header= True)"
   ]
  },
  {
   "cell_type": "code",
   "execution_count": 25,
   "metadata": {},
   "outputs": [
    {
     "data": {
      "text/plain": [
       "(1075, 8)"
      ]
     },
     "execution_count": 25,
     "metadata": {},
     "output_type": "execute_result"
    }
   ],
   "source": [
    "del_input= pd.read_csv(\"Delhi_input.csv\", index_col= 'Date')\n",
    "del_input= del_input.drop(\"Unnamed: 0\", axis=1)\n",
    "del_input= del_input.dropna()\n",
    "del_input.shape"
   ]
  },
  {
   "cell_type": "code",
   "execution_count": 26,
   "metadata": {},
   "outputs": [
    {
     "data": {
      "text/html": [
       "<div>\n",
       "<style scoped>\n",
       "    .dataframe tbody tr th:only-of-type {\n",
       "        vertical-align: middle;\n",
       "    }\n",
       "\n",
       "    .dataframe tbody tr th {\n",
       "        vertical-align: top;\n",
       "    }\n",
       "\n",
       "    .dataframe thead th {\n",
       "        text-align: right;\n",
       "    }\n",
       "</style>\n",
       "<table border=\"1\" class=\"dataframe\">\n",
       "  <thead>\n",
       "    <tr style=\"text-align: right;\">\n",
       "      <th></th>\n",
       "      <th>pm25</th>\n",
       "    </tr>\n",
       "    <tr>\n",
       "      <th>date</th>\n",
       "      <th></th>\n",
       "    </tr>\n",
       "  </thead>\n",
       "  <tbody>\n",
       "    <tr>\n",
       "      <td>01-01-2015</td>\n",
       "      <td>272</td>\n",
       "    </tr>\n",
       "    <tr>\n",
       "      <td>02-01-2015</td>\n",
       "      <td>293</td>\n",
       "    </tr>\n",
       "    <tr>\n",
       "      <td>03-01-2015</td>\n",
       "      <td>173</td>\n",
       "    </tr>\n",
       "    <tr>\n",
       "      <td>04-01-2015</td>\n",
       "      <td>190</td>\n",
       "    </tr>\n",
       "    <tr>\n",
       "      <td>05-01-2015</td>\n",
       "      <td>191</td>\n",
       "    </tr>\n",
       "  </tbody>\n",
       "</table>\n",
       "</div>"
      ],
      "text/plain": [
       "             pm25\n",
       "date             \n",
       "01-01-2015    272\n",
       "02-01-2015    293\n",
       "03-01-2015    173\n",
       "04-01-2015    190\n",
       "05-01-2015    191"
      ]
     },
     "execution_count": 26,
     "metadata": {},
     "output_type": "execute_result"
    }
   ],
   "source": [
    "del_target= pd.read_csv(\"Delhi_target.csv\", index_col= 'date')\n",
    "del_target.head()"
   ]
  },
  {
   "cell_type": "code",
   "execution_count": 27,
   "metadata": {},
   "outputs": [],
   "source": [
    "merge_del=pd.merge(del_input,del_target, how='inner', left_index=True, right_index=True)"
   ]
  },
  {
   "cell_type": "markdown",
   "metadata": {},
   "source": [
    "# For Kolkata"
   ]
  },
  {
   "cell_type": "code",
   "execution_count": 29,
   "metadata": {},
   "outputs": [],
   "source": [
    "url=[]\n",
    "for year in range(2015,2021):\n",
    "    for month in range(1,13):\n",
    "        if month <=9:\n",
    "            links= \"https://en.tutiempo.net/climate/0{}-{}/ws-428090.html\".format(month,year)\n",
    "            url.append(links)\n",
    "        else:\n",
    "            links= \"https://en.tutiempo.net/climate/{}-{}/ws-428090.html\".format(month,year)\n",
    "            url.append(links)"
   ]
  },
  {
   "cell_type": "code",
   "execution_count": 30,
   "metadata": {},
   "outputs": [],
   "source": [
    "data=[]\n",
    "for i in url[:-4]:\n",
    "    uclient= ureq(i)\n",
    "    page_html= uclient.read()\n",
    "    uclient.close()\n",
    "    page_soup= soup(page_html, \"lxml\")\n",
    "    \n",
    "    \n",
    "    table_body=page_soup.find(\"div\",{\"class\":\"mt5 minoverflow tablancpy\"})\n",
    "    rows = table_body.findAll('tr')\n",
    "    for row in rows[1:-2]:\n",
    "        cols=row.findAll('td')\n",
    "        cols=[x.text.strip() for x in cols[0:10]]\n",
    "        data.append(cols)\n",
    "\n",
    "df_kolkata= pd.DataFrame(data)"
   ]
  },
  {
   "cell_type": "code",
   "execution_count": 31,
   "metadata": {},
   "outputs": [],
   "source": [
    "df_kolkata= df_kolkata.drop(4, axis=1)\n",
    "df_kolkata= df_kolkata.replace('', np.nan)\n",
    "df_kolkata.columns= ['Date', 'T', 'TM', 'tm', 'H', 'PP', 'VV', 'V', 'VM']"
   ]
  },
  {
   "cell_type": "code",
   "execution_count": 32,
   "metadata": {},
   "outputs": [],
   "source": [
    "df_kolkata.to_csv('Kolkata_input.csv', header= True)"
   ]
  },
  {
   "cell_type": "code",
   "execution_count": 33,
   "metadata": {},
   "outputs": [
    {
     "data": {
      "text/plain": [
       "(1067, 8)"
      ]
     },
     "execution_count": 33,
     "metadata": {},
     "output_type": "execute_result"
    }
   ],
   "source": [
    "kolkata_input= pd.read_csv(\"Kolkata_input.csv\", index_col= 'Date')\n",
    "kolkata_input= kolkata_input.drop(\"Unnamed: 0\", axis=1)\n",
    "kolkata_input= kolkata_input.dropna()\n",
    "kolkata_input.shape"
   ]
  },
  {
   "cell_type": "code",
   "execution_count": 34,
   "metadata": {},
   "outputs": [
    {
     "data": {
      "text/html": [
       "<div>\n",
       "<style scoped>\n",
       "    .dataframe tbody tr th:only-of-type {\n",
       "        vertical-align: middle;\n",
       "    }\n",
       "\n",
       "    .dataframe tbody tr th {\n",
       "        vertical-align: top;\n",
       "    }\n",
       "\n",
       "    .dataframe thead th {\n",
       "        text-align: right;\n",
       "    }\n",
       "</style>\n",
       "<table border=\"1\" class=\"dataframe\">\n",
       "  <thead>\n",
       "    <tr style=\"text-align: right;\">\n",
       "      <th></th>\n",
       "      <th>pm25</th>\n",
       "    </tr>\n",
       "    <tr>\n",
       "      <th>date</th>\n",
       "      <th></th>\n",
       "    </tr>\n",
       "  </thead>\n",
       "  <tbody>\n",
       "    <tr>\n",
       "      <td>01-01-2015</td>\n",
       "      <td>230</td>\n",
       "    </tr>\n",
       "    <tr>\n",
       "      <td>02-01-2015</td>\n",
       "      <td>143</td>\n",
       "    </tr>\n",
       "    <tr>\n",
       "      <td>03-01-2015</td>\n",
       "      <td>119</td>\n",
       "    </tr>\n",
       "    <tr>\n",
       "      <td>04-01-2015</td>\n",
       "      <td>160</td>\n",
       "    </tr>\n",
       "    <tr>\n",
       "      <td>05-01-2015</td>\n",
       "      <td>154</td>\n",
       "    </tr>\n",
       "  </tbody>\n",
       "</table>\n",
       "</div>"
      ],
      "text/plain": [
       "             pm25\n",
       "date             \n",
       "01-01-2015    230\n",
       "02-01-2015    143\n",
       "03-01-2015    119\n",
       "04-01-2015    160\n",
       "05-01-2015    154"
      ]
     },
     "execution_count": 34,
     "metadata": {},
     "output_type": "execute_result"
    }
   ],
   "source": [
    "kolkata_target= pd.read_csv(\"Kolkata_target.csv\", index_col= 'date')\n",
    "kolkata_target.head()"
   ]
  },
  {
   "cell_type": "code",
   "execution_count": 35,
   "metadata": {},
   "outputs": [],
   "source": [
    "merge_kolk=pd.merge(kolkata_input,kolkata_target, how='inner', left_index=True, right_index=True)"
   ]
  },
  {
   "cell_type": "markdown",
   "metadata": {},
   "source": [
    "# Final DF"
   ]
  },
  {
   "cell_type": "code",
   "execution_count": 43,
   "metadata": {},
   "outputs": [],
   "source": [
    "final_df= pd.concat([merge_bombay, merge_bang, merge_del, merge_kolk])"
   ]
  },
  {
   "cell_type": "code",
   "execution_count": 44,
   "metadata": {},
   "outputs": [],
   "source": [
    "final_df.PP.replace('-', 0, inplace=True)"
   ]
  },
  {
   "cell_type": "code",
   "execution_count": 45,
   "metadata": {},
   "outputs": [],
   "source": [
    "final_df.replace('-', np.nan, inplace=True)"
   ]
  },
  {
   "cell_type": "code",
   "execution_count": 48,
   "metadata": {},
   "outputs": [],
   "source": [
    "final_df.dropna(inplace=True)"
   ]
  },
  {
   "cell_type": "code",
   "execution_count": 49,
   "metadata": {},
   "outputs": [
    {
     "data": {
      "text/plain": [
       "T        0\n",
       "TM       0\n",
       "tm       0\n",
       "H        0\n",
       "PP       0\n",
       "VV       0\n",
       "V        0\n",
       "VM       0\n",
       " pm25    0\n",
       "dtype: int64"
      ]
     },
     "execution_count": 49,
     "metadata": {},
     "output_type": "execute_result"
    }
   ],
   "source": [
    "final_df.isnull().sum()"
   ]
  },
  {
   "cell_type": "code",
   "execution_count": 51,
   "metadata": {},
   "outputs": [
    {
     "data": {
      "text/plain": [
       "(3742, 9)"
      ]
     },
     "execution_count": 51,
     "metadata": {},
     "output_type": "execute_result"
    }
   ],
   "source": [
    "final_df.shape"
   ]
  },
  {
   "cell_type": "code",
   "execution_count": 78,
   "metadata": {},
   "outputs": [],
   "source": [
    "final_df.rename({' pm25':'PM25'},axis=1, inplace= True)"
   ]
  },
  {
   "cell_type": "code",
   "execution_count": 85,
   "metadata": {},
   "outputs": [],
   "source": [
    "final_df.replace(' ', '', inplace=True)\n",
    "final_df.dropna(inplace=True)"
   ]
  },
  {
   "cell_type": "code",
   "execution_count": 90,
   "metadata": {},
   "outputs": [],
   "source": [
    "final_df[\"PM25\"] = pd.to_numeric(final_df[\"PM25\"])\n",
    "final_df[\"PM25\"]= final_df[\"PM25\"].astype(int)"
   ]
  },
  {
   "cell_type": "code",
   "execution_count": 94,
   "metadata": {},
   "outputs": [],
   "source": [
    "final_df.to_csv('AQI_Dataset.csv', header= True)"
   ]
  },
  {
   "cell_type": "code",
   "execution_count": 93,
   "metadata": {},
   "outputs": [
    {
     "data": {
      "text/html": [
       "<div>\n",
       "<style scoped>\n",
       "    .dataframe tbody tr th:only-of-type {\n",
       "        vertical-align: middle;\n",
       "    }\n",
       "\n",
       "    .dataframe tbody tr th {\n",
       "        vertical-align: top;\n",
       "    }\n",
       "\n",
       "    .dataframe thead th {\n",
       "        text-align: right;\n",
       "    }\n",
       "</style>\n",
       "<table border=\"1\" class=\"dataframe\">\n",
       "  <thead>\n",
       "    <tr style=\"text-align: right;\">\n",
       "      <th></th>\n",
       "      <th>T</th>\n",
       "      <th>TM</th>\n",
       "      <th>tm</th>\n",
       "      <th>H</th>\n",
       "      <th>PP</th>\n",
       "      <th>VV</th>\n",
       "      <th>V</th>\n",
       "      <th>VM</th>\n",
       "      <th>PM25</th>\n",
       "    </tr>\n",
       "  </thead>\n",
       "  <tbody>\n",
       "    <tr>\n",
       "      <td>01-01-2015</td>\n",
       "      <td>23.1</td>\n",
       "      <td>27.3</td>\n",
       "      <td>17</td>\n",
       "      <td>60</td>\n",
       "      <td>0</td>\n",
       "      <td>1.9</td>\n",
       "      <td>8.9</td>\n",
       "      <td>20.6</td>\n",
       "      <td>163</td>\n",
       "    </tr>\n",
       "    <tr>\n",
       "      <td>02-01-2015</td>\n",
       "      <td>23.6</td>\n",
       "      <td>27.6</td>\n",
       "      <td>18</td>\n",
       "      <td>65</td>\n",
       "      <td>0</td>\n",
       "      <td>1.8</td>\n",
       "      <td>5.7</td>\n",
       "      <td>14.8</td>\n",
       "      <td>165</td>\n",
       "    </tr>\n",
       "    <tr>\n",
       "      <td>03-01-2015</td>\n",
       "      <td>24</td>\n",
       "      <td>29</td>\n",
       "      <td>18.4</td>\n",
       "      <td>65</td>\n",
       "      <td>0</td>\n",
       "      <td>1.8</td>\n",
       "      <td>6.7</td>\n",
       "      <td>18.3</td>\n",
       "      <td>170</td>\n",
       "    </tr>\n",
       "    <tr>\n",
       "      <td>07-01-2015</td>\n",
       "      <td>24.9</td>\n",
       "      <td>30.3</td>\n",
       "      <td>18.3</td>\n",
       "      <td>49</td>\n",
       "      <td>0</td>\n",
       "      <td>1.9</td>\n",
       "      <td>6.3</td>\n",
       "      <td>16.5</td>\n",
       "      <td>164</td>\n",
       "    </tr>\n",
       "    <tr>\n",
       "      <td>08-01-2015</td>\n",
       "      <td>25.1</td>\n",
       "      <td>31.2</td>\n",
       "      <td>16</td>\n",
       "      <td>43</td>\n",
       "      <td>0</td>\n",
       "      <td>2.1</td>\n",
       "      <td>6.3</td>\n",
       "      <td>16.5</td>\n",
       "      <td>169</td>\n",
       "    </tr>\n",
       "    <tr>\n",
       "      <td>...</td>\n",
       "      <td>...</td>\n",
       "      <td>...</td>\n",
       "      <td>...</td>\n",
       "      <td>...</td>\n",
       "      <td>...</td>\n",
       "      <td>...</td>\n",
       "      <td>...</td>\n",
       "      <td>...</td>\n",
       "      <td>...</td>\n",
       "    </tr>\n",
       "    <tr>\n",
       "      <td>07-08-2020</td>\n",
       "      <td>30.5</td>\n",
       "      <td>34</td>\n",
       "      <td>28</td>\n",
       "      <td>92</td>\n",
       "      <td>0</td>\n",
       "      <td>3.7</td>\n",
       "      <td>6.9</td>\n",
       "      <td>16.5</td>\n",
       "      <td>51</td>\n",
       "    </tr>\n",
       "    <tr>\n",
       "      <td>08-08-2020</td>\n",
       "      <td>30.9</td>\n",
       "      <td>35</td>\n",
       "      <td>27.6</td>\n",
       "      <td>91</td>\n",
       "      <td>0</td>\n",
       "      <td>3.4</td>\n",
       "      <td>6.5</td>\n",
       "      <td>16.5</td>\n",
       "      <td>56</td>\n",
       "    </tr>\n",
       "    <tr>\n",
       "      <td>09-08-2020</td>\n",
       "      <td>30</td>\n",
       "      <td>34</td>\n",
       "      <td>27.1</td>\n",
       "      <td>90</td>\n",
       "      <td>4.06</td>\n",
       "      <td>3.4</td>\n",
       "      <td>9.6</td>\n",
       "      <td>22.2</td>\n",
       "      <td>29</td>\n",
       "    </tr>\n",
       "    <tr>\n",
       "      <td>14-08-2020</td>\n",
       "      <td>30.1</td>\n",
       "      <td>35</td>\n",
       "      <td>28</td>\n",
       "      <td>90</td>\n",
       "      <td>0</td>\n",
       "      <td>3.2</td>\n",
       "      <td>11.1</td>\n",
       "      <td>22.2</td>\n",
       "      <td>13</td>\n",
       "    </tr>\n",
       "    <tr>\n",
       "      <td>15-08-2020</td>\n",
       "      <td>29.6</td>\n",
       "      <td>33</td>\n",
       "      <td>28</td>\n",
       "      <td>93</td>\n",
       "      <td>0</td>\n",
       "      <td>3.2</td>\n",
       "      <td>12.2</td>\n",
       "      <td>24.1</td>\n",
       "      <td>10</td>\n",
       "    </tr>\n",
       "  </tbody>\n",
       "</table>\n",
       "<p>3695 rows × 9 columns</p>\n",
       "</div>"
      ],
      "text/plain": [
       "               T    TM    tm   H    PP   VV     V    VM  PM25\n",
       "01-01-2015  23.1  27.3    17  60     0  1.9   8.9  20.6   163\n",
       "02-01-2015  23.6  27.6    18  65     0  1.8   5.7  14.8   165\n",
       "03-01-2015    24    29  18.4  65     0  1.8   6.7  18.3   170\n",
       "07-01-2015  24.9  30.3  18.3  49     0  1.9   6.3  16.5   164\n",
       "08-01-2015  25.1  31.2    16  43     0  2.1   6.3  16.5   169\n",
       "...          ...   ...   ...  ..   ...  ...   ...   ...   ...\n",
       "07-08-2020  30.5    34    28  92     0  3.7   6.9  16.5    51\n",
       "08-08-2020  30.9    35  27.6  91     0  3.4   6.5  16.5    56\n",
       "09-08-2020    30    34  27.1  90  4.06  3.4   9.6  22.2    29\n",
       "14-08-2020  30.1    35    28  90     0  3.2  11.1  22.2    13\n",
       "15-08-2020  29.6    33    28  93     0  3.2  12.2  24.1    10\n",
       "\n",
       "[3695 rows x 9 columns]"
      ]
     },
     "execution_count": 93,
     "metadata": {},
     "output_type": "execute_result"
    }
   ],
   "source": [
    "final_df"
   ]
  },
  {
   "cell_type": "code",
   "execution_count": null,
   "metadata": {},
   "outputs": [],
   "source": []
  }
 ],
 "metadata": {
  "kernelspec": {
   "display_name": "Python 3",
   "language": "python",
   "name": "python3"
  },
  "language_info": {
   "codemirror_mode": {
    "name": "ipython",
    "version": 3
   },
   "file_extension": ".py",
   "mimetype": "text/x-python",
   "name": "python",
   "nbconvert_exporter": "python",
   "pygments_lexer": "ipython3",
   "version": "3.7.4"
  }
 },
 "nbformat": 4,
 "nbformat_minor": 2
}
